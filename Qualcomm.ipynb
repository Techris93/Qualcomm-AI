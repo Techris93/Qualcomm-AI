{
  "nbformat": 4,
  "nbformat_minor": 0,
  "metadata": {
    "colab": {
      "provenance": []
    },
    "kernelspec": {
      "name": "python3",
      "display_name": "Python 3"
    },
    "language_info": {
      "name": "python"
    }
  },
  "cells": [
    {
      "cell_type": "code",
      "execution_count": null,
      "metadata": {
        "colab": {
          "base_uri": "https://localhost:8080/",
          "height": 1000
        },
        "id": "L9hcDdqRz2LP",
        "outputId": "8b87de88-dd9c-4a35-deb4-3490df61aa2f"
      },
      "outputs": [
        {
          "output_type": "stream",
          "name": "stdout",
          "text": [
            "Collecting qai-hub\n",
            "  Downloading qai_hub-0.24.0-py3-none-any.whl.metadata (2.8 kB)\n",
            "Collecting backoff>=2.2 (from qai-hub)\n",
            "  Downloading backoff-2.2.1-py3-none-any.whl.metadata (14 kB)\n",
            "Collecting deprecation (from qai-hub)\n",
            "  Downloading deprecation-2.1.0-py2.py3-none-any.whl.metadata (4.6 kB)\n",
            "Requirement already satisfied: h5py<4,>=2.10.0 in /usr/local/lib/python3.11/dist-packages (from qai-hub) (3.12.1)\n",
            "Requirement already satisfied: numpy<2,>=1.22.0 in /usr/local/lib/python3.11/dist-packages (from qai-hub) (1.26.4)\n",
            "Requirement already satisfied: packaging>=20.0 in /usr/local/lib/python3.11/dist-packages (from qai-hub) (24.2)\n",
            "Requirement already satisfied: prettytable>=3.9.0 in /usr/local/lib/python3.11/dist-packages (from qai-hub) (3.14.0)\n",
            "Collecting protobuf<4,>=3.20 (from qai-hub)\n",
            "  Downloading protobuf-3.20.3-py2.py3-none-any.whl.metadata (720 bytes)\n",
            "Requirement already satisfied: requests in /usr/local/lib/python3.11/dist-packages (from qai-hub) (2.32.3)\n",
            "Requirement already satisfied: requests-toolbelt in /usr/local/lib/python3.11/dist-packages (from qai-hub) (1.0.0)\n",
            "Collecting s3transfer<0.11,>=0.10.3 (from qai-hub)\n",
            "  Downloading s3transfer-0.10.4-py3-none-any.whl.metadata (1.7 kB)\n",
            "Collecting semver>=3.0 (from qai-hub)\n",
            "  Downloading semver-3.0.4-py3-none-any.whl.metadata (6.8 kB)\n",
            "Requirement already satisfied: tqdm in /usr/local/lib/python3.11/dist-packages (from qai-hub) (4.67.1)\n",
            "Requirement already satisfied: typing-extensions>=4.12.2 in /usr/local/lib/python3.11/dist-packages (from qai-hub) (4.12.2)\n",
            "Requirement already satisfied: wcwidth in /usr/local/lib/python3.11/dist-packages (from prettytable>=3.9.0->qai-hub) (0.2.13)\n",
            "Collecting botocore<2.0a.0,>=1.33.2 (from s3transfer<0.11,>=0.10.3->qai-hub)\n",
            "  Downloading botocore-1.36.26-py3-none-any.whl.metadata (5.7 kB)\n",
            "Requirement already satisfied: charset-normalizer<4,>=2 in /usr/local/lib/python3.11/dist-packages (from requests->qai-hub) (3.4.1)\n",
            "Requirement already satisfied: idna<4,>=2.5 in /usr/local/lib/python3.11/dist-packages (from requests->qai-hub) (3.10)\n",
            "Requirement already satisfied: urllib3<3,>=1.21.1 in /usr/local/lib/python3.11/dist-packages (from requests->qai-hub) (2.3.0)\n",
            "Requirement already satisfied: certifi>=2017.4.17 in /usr/local/lib/python3.11/dist-packages (from requests->qai-hub) (2025.1.31)\n",
            "Collecting jmespath<2.0.0,>=0.7.1 (from botocore<2.0a.0,>=1.33.2->s3transfer<0.11,>=0.10.3->qai-hub)\n",
            "  Downloading jmespath-1.0.1-py3-none-any.whl.metadata (7.6 kB)\n",
            "Requirement already satisfied: python-dateutil<3.0.0,>=2.1 in /usr/local/lib/python3.11/dist-packages (from botocore<2.0a.0,>=1.33.2->s3transfer<0.11,>=0.10.3->qai-hub) (2.8.2)\n",
            "Requirement already satisfied: six>=1.5 in /usr/local/lib/python3.11/dist-packages (from python-dateutil<3.0.0,>=2.1->botocore<2.0a.0,>=1.33.2->s3transfer<0.11,>=0.10.3->qai-hub) (1.17.0)\n",
            "Downloading qai_hub-0.24.0-py3-none-any.whl (99 kB)\n",
            "\u001b[2K   \u001b[90m━━━━━━━━━━━━━━━━━━━━━━━━━━━━━━━━━━━━━━━━\u001b[0m \u001b[32m99.9/99.9 kB\u001b[0m \u001b[31m3.7 MB/s\u001b[0m eta \u001b[36m0:00:00\u001b[0m\n",
            "\u001b[?25hDownloading backoff-2.2.1-py3-none-any.whl (15 kB)\n",
            "Downloading protobuf-3.20.3-py2.py3-none-any.whl (162 kB)\n",
            "\u001b[2K   \u001b[90m━━━━━━━━━━━━━━━━━━━━━━━━━━━━━━━━━━━━━━━━\u001b[0m \u001b[32m162.1/162.1 kB\u001b[0m \u001b[31m7.1 MB/s\u001b[0m eta \u001b[36m0:00:00\u001b[0m\n",
            "\u001b[?25hDownloading s3transfer-0.10.4-py3-none-any.whl (83 kB)\n",
            "\u001b[2K   \u001b[90m━━━━━━━━━━━━━━━━━━━━━━━━━━━━━━━━━━━━━━━━\u001b[0m \u001b[32m83.2/83.2 kB\u001b[0m \u001b[31m5.2 MB/s\u001b[0m eta \u001b[36m0:00:00\u001b[0m\n",
            "\u001b[?25hDownloading semver-3.0.4-py3-none-any.whl (17 kB)\n",
            "Downloading deprecation-2.1.0-py2.py3-none-any.whl (11 kB)\n",
            "Downloading botocore-1.36.26-py3-none-any.whl (13.4 MB)\n",
            "\u001b[2K   \u001b[90m━━━━━━━━━━━━━━━━━━━━━━━━━━━━━━━━━━━━━━━━\u001b[0m \u001b[32m13.4/13.4 MB\u001b[0m \u001b[31m69.3 MB/s\u001b[0m eta \u001b[36m0:00:00\u001b[0m\n",
            "\u001b[?25hDownloading jmespath-1.0.1-py3-none-any.whl (20 kB)\n",
            "Installing collected packages: semver, protobuf, jmespath, deprecation, backoff, botocore, s3transfer, qai-hub\n",
            "  Attempting uninstall: protobuf\n",
            "    Found existing installation: protobuf 4.25.6\n",
            "    Uninstalling protobuf-4.25.6:\n",
            "      Successfully uninstalled protobuf-4.25.6\n",
            "\u001b[31mERROR: pip's dependency resolver does not currently take into account all the packages that are installed. This behaviour is the source of the following dependency conflicts.\n",
            "grpcio-status 1.62.3 requires protobuf>=4.21.6, but you have protobuf 3.20.3 which is incompatible.\n",
            "tensorflow-metadata 1.16.1 requires protobuf<6.0.0dev,>=4.25.2; python_version >= \"3.11\", but you have protobuf 3.20.3 which is incompatible.\u001b[0m\u001b[31m\n",
            "\u001b[0mSuccessfully installed backoff-2.2.1 botocore-1.36.26 deprecation-2.1.0 jmespath-1.0.1 protobuf-3.20.3 qai-hub-0.24.0 s3transfer-0.10.4 semver-3.0.4\n"
          ]
        },
        {
          "output_type": "display_data",
          "data": {
            "application/vnd.colab-display-data+json": {
              "pip_warning": {
                "packages": [
                  "google"
                ]
              },
              "id": "2639bb9aa0ab45a5bf1d90587c13806f"
            }
          },
          "metadata": {}
        }
      ],
      "source": [
        "pip install qai-hub"
      ]
    },
    {
      "cell_type": "code",
      "source": [
        "!qai-hub configure --api_token 2b7fdcc8858642da6e4f1d7f6fcfbbc9678df4ac"
      ],
      "metadata": {
        "colab": {
          "base_uri": "https://localhost:8080/"
        },
        "id": "OZO4CTML0g-x",
        "outputId": "e81ef4ac-d358-4b9c-edb2-0309d3e1cbe1"
      },
      "execution_count": null,
      "outputs": [
        {
          "output_type": "stream",
          "name": "stdout",
          "text": [
            "qai-hub configuration saved to /root/.qai_hub/client.ini\n",
            "==================== /root/.qai_hub/client.ini ====================\n",
            "[api]\n",
            "api_token = 2b7fdcc8858642da6e4f1d7f6fcfbbc9678df4ac\n",
            "api_url = https://app.aihub.qualcomm.com\n",
            "web_url = https://app.aihub.qualcomm.com\n",
            "verbose = True\n",
            "\n",
            "\n"
          ]
        }
      ]
    },
    {
      "cell_type": "code",
      "source": [
        "import qai_hub as hub\n",
        "hub.get_devices()\n"
      ],
      "metadata": {
        "colab": {
          "base_uri": "https://localhost:8080/"
        },
        "id": "Gt9e5BjB2lPF",
        "outputId": "b193fb08-f235-43bb-b03c-c355de412bc0"
      },
      "execution_count": null,
      "outputs": [
        {
          "output_type": "execute_result",
          "data": {
            "text/plain": [
              "[Device(name='Google Pixel 3 (Family)', os='10', attributes=['os:android', 'framework:tflite', 'framework:onnx', 'abi:aarch64-android', 'vendor:google', 'format:phone', 'chipset:qualcomm-snapdragon-845', 'chipset:sdm845', 'hexagon:v65', 'soc-model:1']),\n",
              " Device(name='Google Pixel 3', os='10', attributes=['os:android', 'framework:tflite', 'framework:onnx', 'abi:aarch64-android', 'vendor:google', 'format:phone', 'chipset:qualcomm-snapdragon-845', 'chipset:sdm845', 'hexagon:v65', 'soc-model:1']),\n",
              " Device(name='Google Pixel 3a', os='10', attributes=['os:android', 'framework:tflite', 'framework:onnx', 'abi:aarch64-android', 'vendor:google', 'format:phone', 'chipset:qualcomm-snapdragon-670', 'chipset:sdm670', 'hexagon:v65', 'soc-model:6']),\n",
              " Device(name='Google Pixel 3 XL', os='10', attributes=['os:android', 'framework:tflite', 'framework:onnx', 'abi:aarch64-android', 'vendor:google', 'format:phone', 'chipset:qualcomm-snapdragon-845', 'chipset:sdm845', 'hexagon:v65', 'soc-model:1']),\n",
              " Device(name='Google Pixel 4', os='10', attributes=['os:android', 'framework:tflite', 'framework:onnx', 'abi:aarch64-android', 'vendor:google', 'format:phone', 'chipset:qualcomm-snapdragon-855', 'chipset:sm8150', 'hexagon:v66', 'soc-model:12']),\n",
              " Device(name='Google Pixel 4', os='11', attributes=['os:android', 'framework:tflite', 'framework:onnx', 'abi:aarch64-android', 'vendor:google', 'format:phone', 'chipset:qualcomm-snapdragon-855', 'chipset:sm8150', 'hexagon:v66', 'soc-model:12']),\n",
              " Device(name='Google Pixel 4a', os='11', attributes=['os:android', 'framework:tflite', 'framework:onnx', 'abi:aarch64-android', 'vendor:google', 'format:phone', 'chipset:qualcomm-snapdragon-730g', 'chipset:sm7150-ab', 'hexagon:v65', 'soc-model:17']),\n",
              " Device(name='Google Pixel 5', os='11', attributes=['os:android', 'framework:tflite', 'framework:onnx', 'abi:aarch64-android', 'vendor:google', 'format:phone', 'chipset:qualcomm-snapdragon-765g', 'chipset:sm7250', 'hexagon:v66', 'soc-model:25']),\n",
              " Device(name='Samsung Galaxy Tab S7', os='11', attributes=['os:android', 'framework:tflite', 'framework:onnx', 'abi:aarch64-android', 'vendor:samsung', 'format:tablet', 'chipset:qualcomm-snapdragon-865+', 'chipset:sm8250-ab', 'hexagon:v66', 'soc-model:21']),\n",
              " Device(name='Samsung Galaxy Tab A8 (2021)', os='11', attributes=['os:android', 'framework:tflite', 'framework:onnx', 'abi:aarch64-android', 'vendor:samsung', 'format:tablet', 'chipset:qualcomm-snapdragon-429', 'chipset:sdm429']),\n",
              " Device(name='Samsung Galaxy Note 20 (Intl)', os='11', attributes=['os:android', 'framework:tflite', 'framework:onnx', 'abi:aarch64-android', 'vendor:samsung', 'format:phone', 'chipset:samsung-exynos-990']),\n",
              " Device(name='Samsung Galaxy S21 (Family)', os='11', attributes=['os:android', 'framework:tflite', 'framework:onnx', 'abi:aarch64-android', 'vendor:samsung', 'format:phone', 'chipset:qualcomm-snapdragon-888', 'chipset:sm8350', 'hexagon:v68', 'soc-model:30', 'framework:qnn']),\n",
              " Device(name='Samsung Galaxy S21', os='11', attributes=['os:android', 'framework:tflite', 'framework:onnx', 'abi:aarch64-android', 'vendor:samsung', 'format:phone', 'chipset:qualcomm-snapdragon-888', 'chipset:sm8350', 'hexagon:v68', 'soc-model:30', 'framework:qnn']),\n",
              " Device(name='Samsung Galaxy S21+', os='11', attributes=['os:android', 'framework:tflite', 'framework:onnx', 'abi:aarch64-android', 'vendor:samsung', 'format:phone', 'chipset:qualcomm-snapdragon-888', 'chipset:sm8350', 'hexagon:v68', 'soc-model:30', 'framework:qnn']),\n",
              " Device(name='Samsung Galaxy S21 Ultra', os='11', attributes=['os:android', 'framework:tflite', 'framework:onnx', 'abi:aarch64-android', 'vendor:samsung', 'format:phone', 'chipset:qualcomm-snapdragon-888', 'chipset:sm8350', 'hexagon:v68', 'soc-model:30', 'framework:qnn']),\n",
              " Device(name='Xiaomi Redmi Note 10 5G', os='11', attributes=['os:android', 'framework:tflite', 'framework:onnx', 'abi:aarch64-android', 'vendor:oneplus', 'format:phone', 'chipset:qualcomm-snapdragon-678', 'chipset:sm6150-ac', 'hexagon:v66', 'soc-model:16']),\n",
              " Device(name='Google Pixel 3a XL', os='12', attributes=['os:android', 'framework:tflite', 'framework:onnx', 'abi:aarch64-android', 'vendor:google', 'format:phone', 'chipset:qualcomm-snapdragon-670', 'chipset:sdm670', 'hexagon:v65', 'soc-model:6']),\n",
              " Device(name='Google Pixel 4a', os='12', attributes=['os:android', 'framework:tflite', 'framework:onnx', 'abi:aarch64-android', 'vendor:google', 'format:phone', 'chipset:qualcomm-snapdragon-730g', 'chipset:sm7150-ab', 'hexagon:v65', 'soc-model:17']),\n",
              " Device(name='Google Pixel 5 (Family)', os='12', attributes=['os:android', 'framework:tflite', 'framework:onnx', 'abi:aarch64-android', 'vendor:google', 'format:phone', 'chipset:qualcomm-snapdragon-765g', 'chipset:sm7250', 'hexagon:v66', 'soc-model:25']),\n",
              " Device(name='Google Pixel 5', os='12', attributes=['os:android', 'framework:tflite', 'framework:onnx', 'abi:aarch64-android', 'vendor:google', 'format:phone', 'chipset:qualcomm-snapdragon-765g', 'chipset:sm7250', 'hexagon:v66', 'soc-model:25']),\n",
              " Device(name='Google Pixel 5a 5G', os='12', attributes=['os:android', 'framework:tflite', 'framework:onnx', 'abi:aarch64-android', 'vendor:google', 'format:phone', 'chipset:qualcomm-snapdragon-765g', 'chipset:sm7250', 'hexagon:v66', 'soc-model:25']),\n",
              " Device(name='Google Pixel 6', os='12', attributes=['os:android', 'framework:tflite', 'framework:onnx', 'abi:aarch64-android', 'vendor:google', 'format:phone', 'chipset:google-tensor']),\n",
              " Device(name='Samsung Galaxy A53 5G', os='12', attributes=['os:android', 'framework:tflite', 'framework:onnx', 'abi:aarch64-android', 'vendor:samsung', 'format:phone', 'chipset:samsung-exynos-1280']),\n",
              " Device(name='Samsung Galaxy A73 5G', os='12', attributes=['os:android', 'framework:tflite', 'framework:onnx', 'abi:aarch64-android', 'vendor:samsung', 'format:phone', 'chipset:qualcomm-snapdragon-778g', 'chipset:sm7325', 'hexagon:v68', 'soc-model:35', 'framework:qnn']),\n",
              " Device(name='RB3 Gen 2 (Proxy)', os='12', attributes=['os:android', 'framework:tflite', 'framework:onnx', 'abi:aarch64-android', 'vendor:qualcomm', 'format:iot', 'chipset:qualcomm-qcs6490-proxy', 'hexagon:v68', 'soc-model:35', 'framework:qnn']),\n",
              " Device(name='QCS6490 (Proxy)', os='12', attributes=['os:android', 'framework:tflite', 'framework:onnx', 'abi:aarch64-android', 'vendor:qualcomm', 'format:iot', 'chipset:qualcomm-qcs6490-proxy', 'hexagon:v68', 'soc-model:35', 'framework:qnn']),\n",
              " Device(name='RB5 (Proxy)', os='12', attributes=['os:android', 'framework:tflite', 'framework:onnx', 'abi:aarch64-android', 'vendor:qualcomm', 'format:iot', 'chipset:qualcomm-qcs8250-proxy', 'hexagon:v66', 'soc-model:21']),\n",
              " Device(name='QCS8250 (Proxy)', os='12', attributes=['os:android', 'framework:tflite', 'framework:onnx', 'abi:aarch64-android', 'vendor:qualcomm', 'format:iot', 'chipset:qualcomm-qcs8250-proxy', 'hexagon:v66', 'soc-model:21']),\n",
              " Device(name='QCS8550 (Proxy)', os='12', attributes=['os:android', 'framework:tflite', 'framework:onnx', 'abi:aarch64-android', 'vendor:qualcomm', 'format:iot', 'chipset:qualcomm-qcs8550-proxy', 'hexagon:v73', 'soc-model:43', 'htp-supports-fp16:true', 'framework:qnn']),\n",
              " Device(name='Samsung Galaxy S21 (Family)', os='12', attributes=['os:android', 'framework:tflite', 'framework:onnx', 'abi:aarch64-android', 'vendor:samsung', 'format:phone', 'chipset:qualcomm-snapdragon-888', 'chipset:sm8350', 'hexagon:v68', 'soc-model:30', 'framework:qnn']),\n",
              " Device(name='Samsung Galaxy S21', os='12', attributes=['os:android', 'framework:tflite', 'framework:onnx', 'abi:aarch64-android', 'vendor:samsung', 'format:phone', 'chipset:qualcomm-snapdragon-888', 'chipset:sm8350', 'hexagon:v68', 'soc-model:30', 'framework:qnn']),\n",
              " Device(name='Samsung Galaxy S21 Ultra', os='12', attributes=['os:android', 'framework:tflite', 'framework:onnx', 'abi:aarch64-android', 'vendor:samsung', 'format:phone', 'chipset:qualcomm-snapdragon-888', 'chipset:sm8350', 'hexagon:v68', 'soc-model:30', 'framework:qnn']),\n",
              " Device(name='Samsung Galaxy S22 (Family)', os='12', attributes=['os:android', 'framework:tflite', 'framework:onnx', 'abi:aarch64-android', 'vendor:samsung', 'format:phone', 'chipset:qualcomm-snapdragon-8gen1', 'chipset:sm8450', 'hexagon:v69', 'soc-model:36', 'htp-supports-fp16:true', 'framework:qnn']),\n",
              " Device(name='Samsung Galaxy S22 Ultra 5G', os='12', attributes=['os:android', 'framework:tflite', 'framework:onnx', 'abi:aarch64-android', 'vendor:samsung', 'format:phone', 'chipset:qualcomm-snapdragon-8gen1', 'chipset:sm8450', 'hexagon:v69', 'soc-model:36', 'htp-supports-fp16:true', 'framework:qnn']),\n",
              " Device(name='Samsung Galaxy S22 5G', os='12', attributes=['os:android', 'framework:tflite', 'framework:onnx', 'abi:aarch64-android', 'vendor:samsung', 'format:phone', 'chipset:qualcomm-snapdragon-8gen1', 'chipset:sm8450', 'hexagon:v69', 'soc-model:36', 'htp-supports-fp16:true', 'framework:qnn']),\n",
              " Device(name='Samsung Galaxy S22+ 5G', os='12', attributes=['os:android', 'framework:tflite', 'framework:onnx', 'abi:aarch64-android', 'vendor:samsung', 'format:phone', 'chipset:qualcomm-snapdragon-8gen1', 'chipset:sm8450', 'hexagon:v69', 'soc-model:36', 'htp-supports-fp16:true', 'framework:qnn']),\n",
              " Device(name='Samsung Galaxy Tab S8', os='12', attributes=['os:android', 'framework:tflite', 'framework:onnx', 'abi:aarch64-android', 'vendor:samsung', 'format:tablet', 'chipset:qualcomm-snapdragon-8gen1', 'chipset:sm8450', 'hexagon:v69', 'soc-model:36', 'htp-supports-fp16:true', 'framework:qnn']),\n",
              " Device(name='Xiaomi 12 (Family)', os='12', attributes=['os:android', 'framework:tflite', 'framework:onnx', 'abi:aarch64-android', 'vendor:xiaomi', 'format:phone', 'chipset:qualcomm-snapdragon-8gen1', 'chipset:sm8450', 'hexagon:v69', 'soc-model:36', 'htp-supports-fp16:true', 'framework:qnn']),\n",
              " Device(name='Xiaomi 12', os='12', attributes=['os:android', 'framework:tflite', 'framework:onnx', 'abi:aarch64-android', 'vendor:xiaomi', 'format:phone', 'chipset:qualcomm-snapdragon-8gen1', 'chipset:sm8450', 'hexagon:v69', 'soc-model:36', 'htp-supports-fp16:true', 'framework:qnn']),\n",
              " Device(name='Xiaomi 12 Pro', os='12', attributes=['os:android', 'framework:tflite', 'framework:onnx', 'abi:aarch64-android', 'vendor:xiaomi', 'format:phone', 'chipset:qualcomm-snapdragon-8gen1', 'chipset:sm8450', 'hexagon:v69', 'soc-model:36', 'htp-supports-fp16:true', 'framework:qnn']),\n",
              " Device(name='Google Pixel 6 (Family)', os='13', attributes=['os:android', 'framework:tflite', 'framework:onnx', 'abi:aarch64-android', 'vendor:google', 'format:phone', 'chipset:google-tensor']),\n",
              " Device(name='Google Pixel 6', os='13', attributes=['os:android', 'framework:tflite', 'framework:onnx', 'abi:aarch64-android', 'vendor:google', 'format:phone', 'chipset:google-tensor']),\n",
              " Device(name='Google Pixel 6a', os='13', attributes=['os:android', 'framework:tflite', 'framework:onnx', 'abi:aarch64-android', 'vendor:google', 'format:phone', 'chipset:google-tensor']),\n",
              " Device(name='Google Pixel 7 (Family)', os='13', attributes=['os:android', 'framework:tflite', 'framework:onnx', 'abi:aarch64-android', 'vendor:google', 'format:phone', 'chipset:google-tensor-g2']),\n",
              " Device(name='Google Pixel 7', os='13', attributes=['os:android', 'framework:tflite', 'framework:onnx', 'abi:aarch64-android', 'vendor:google', 'format:phone', 'chipset:google-tensor-g2']),\n",
              " Device(name='Google Pixel 7 Pro', os='13', attributes=['os:android', 'framework:tflite', 'framework:onnx', 'abi:aarch64-android', 'vendor:google', 'format:phone', 'chipset:google-tensor-g2']),\n",
              " Device(name='Samsung Galaxy A14 5G', os='13', attributes=['os:android', 'framework:tflite', 'framework:onnx', 'abi:aarch64-android', 'vendor:samsung', 'format:phone', 'chipset:samsung-exynos-1330']),\n",
              " Device(name='Samsung Galaxy S22 5G', os='13', attributes=['os:android', 'framework:tflite', 'framework:onnx', 'abi:aarch64-android', 'vendor:samsung', 'format:phone', 'chipset:qualcomm-snapdragon-8gen1', 'chipset:sm8450', 'hexagon:v69', 'soc-model:36', 'htp-supports-fp16:true', 'framework:qnn']),\n",
              " Device(name='QCS8450 (Proxy)', os='13', attributes=['os:android', 'framework:tflite', 'framework:onnx', 'abi:aarch64-android', 'vendor:qualcomm', 'format:xr', 'chipset:qualcomm-qcs8450-proxy', 'hexagon:v69', 'soc-model:36', 'htp-supports-fp16:true', 'framework:qnn']),\n",
              " Device(name='XR2 Gen 2 (Proxy)', os='13', attributes=['os:android', 'framework:tflite', 'framework:onnx', 'abi:aarch64-android', 'vendor:qualcomm', 'format:xr', 'chipset:qualcomm-qcs8450-proxy', 'hexagon:v69', 'soc-model:36', 'htp-supports-fp16:true', 'framework:qnn']),\n",
              " Device(name='Samsung Galaxy S23 (Family)', os='13', attributes=['os:android', 'framework:tflite', 'framework:onnx', 'abi:aarch64-android', 'vendor:samsung', 'format:phone', 'chipset:qualcomm-snapdragon-8gen2', 'chipset:sm8550', 'hexagon:v73', 'soc-model:43', 'htp-supports-fp16:true', 'framework:qnn']),\n",
              " Device(name='SA8650 (Proxy)', os='13', attributes=['os:android', 'framework:tflite', 'framework:onnx', 'abi:aarch64-android', 'format:auto', 'vendor:qualcomm', 'chipset:qualcomm-sa8650p-proxy', 'hexagon:v73', 'soc-model:43', 'htp-supports-fp16:true', 'framework:qnn']),\n",
              " Device(name='SA8775 (Proxy)', os='13', attributes=['os:android', 'framework:tflite', 'framework:onnx', 'abi:aarch64-android', 'format:auto', 'vendor:qualcomm', 'chipset:qualcomm-sa8775p-proxy', 'hexagon:v73', 'soc-model:43', 'htp-supports-fp16:true', 'framework:qnn']),\n",
              " Device(name='SA8255 (Proxy)', os='13', attributes=['os:android', 'framework:tflite', 'framework:onnx', 'abi:aarch64-android', 'format:auto', 'vendor:qualcomm', 'chipset:qualcomm-sa8255p-proxy', 'hexagon:v73', 'soc-model:43', 'htp-supports-fp16:true', 'framework:qnn']),\n",
              " Device(name='Samsung Galaxy S23', os='13', attributes=['os:android', 'framework:tflite', 'framework:onnx', 'abi:aarch64-android', 'vendor:samsung', 'format:phone', 'chipset:qualcomm-snapdragon-8gen2', 'chipset:sm8550', 'hexagon:v73', 'soc-model:43', 'htp-supports-fp16:true', 'framework:qnn']),\n",
              " Device(name='Samsung Galaxy S23+', os='13', attributes=['os:android', 'framework:tflite', 'framework:onnx', 'abi:aarch64-android', 'vendor:samsung', 'format:phone', 'chipset:qualcomm-snapdragon-8gen2', 'chipset:sm8550', 'hexagon:v73', 'soc-model:43', 'htp-supports-fp16:true', 'framework:qnn']),\n",
              " Device(name='Samsung Galaxy S23 Ultra', os='13', attributes=['os:android', 'framework:tflite', 'framework:onnx', 'abi:aarch64-android', 'vendor:samsung', 'format:phone', 'chipset:qualcomm-snapdragon-8gen2', 'chipset:sm8550', 'hexagon:v73', 'soc-model:43', 'htp-supports-fp16:true', 'framework:qnn']),\n",
              " Device(name='Google Pixel 7', os='14', attributes=['os:android', 'framework:tflite', 'framework:onnx', 'abi:aarch64-android', 'vendor:google', 'format:phone', 'chipset:google-tensor-g2']),\n",
              " Device(name='Google Pixel 8 (Family)', os='14', attributes=['os:android', 'framework:tflite', 'framework:onnx', 'abi:aarch64-android', 'vendor:google', 'format:phone', 'chipset:google-tensor-g3']),\n",
              " Device(name='Google Pixel 8', os='14', attributes=['os:android', 'framework:tflite', 'framework:onnx', 'abi:aarch64-android', 'vendor:google', 'format:phone', 'chipset:google-tensor-g3']),\n",
              " Device(name='Google Pixel 8 Pro', os='14', attributes=['os:android', 'framework:tflite', 'framework:onnx', 'abi:aarch64-android', 'vendor:google', 'format:phone', 'chipset:google-tensor-g3']),\n",
              " Device(name='Samsung Galaxy S24 (Family)', os='14', attributes=['os:android', 'framework:tflite', 'framework:onnx', 'abi:aarch64-android', 'vendor:samsung', 'format:phone', 'chipset:qualcomm-snapdragon-8gen3', 'chipset:sm8650', 'hexagon:v75', 'soc-model:57', 'htp-supports-fp16:true', 'framework:qnn']),\n",
              " Device(name='Samsung Galaxy S24', os='14', attributes=['os:android', 'framework:tflite', 'framework:onnx', 'abi:aarch64-android', 'vendor:samsung', 'format:phone', 'chipset:qualcomm-snapdragon-8gen3', 'chipset:sm8650', 'hexagon:v75', 'soc-model:57', 'htp-supports-fp16:true', 'framework:qnn']),\n",
              " Device(name='Samsung Galaxy S24 Ultra', os='14', attributes=['os:android', 'framework:tflite', 'framework:onnx', 'abi:aarch64-android', 'vendor:samsung', 'format:phone', 'chipset:qualcomm-snapdragon-8gen3', 'chipset:sm8650', 'hexagon:v75', 'soc-model:57', 'htp-supports-fp16:true', 'framework:qnn']),\n",
              " Device(name='Samsung Galaxy S24+', os='14', attributes=['os:android', 'framework:tflite', 'framework:onnx', 'abi:aarch64-android', 'vendor:samsung', 'format:phone', 'chipset:qualcomm-snapdragon-8gen3', 'chipset:sm8650', 'hexagon:v75', 'soc-model:57', 'htp-supports-fp16:true', 'framework:qnn']),\n",
              " Device(name='Snapdragon 8cx Gen 3 CRD', os='11', attributes=['os:windows', 'format:compute', 'framework:onnx', 'vendor:qualcomm', 'abi:aarch64-windows', 'chipset:qualcomm-snapdragon-8cxgen3', 'chipset:sc8280x', 'hexagon:v68', 'soc-model:37', 'framework:qnn']),\n",
              " Device(name='Snapdragon X Elite CRD', os='11', attributes=['os:windows', 'format:compute', 'framework:onnx', 'vendor:qualcomm', 'abi:aarch64-windows', 'chipset:qualcomm-snapdragon-x-elite', 'chipset:sc8380xp', 'hexagon:v73', 'soc-model:60', 'htp-supports-fp16:true', 'framework:qnn']),\n",
              " Device(name='Snapdragon X Plus 8-Core CRD', os='11', attributes=['os:windows', 'format:compute', 'framework:onnx', 'vendor:qualcomm', 'abi:aarch64-windows', 'chipset:qualcomm-snapdragon-x-plus-8-core', 'chipset:sc8340xp', 'hexagon:v73', 'soc-model:60', 'htp-supports-fp16:true', 'framework:qnn']),\n",
              " Device(name='Snapdragon 8 Elite QRD', os='15', attributes=['os:android', 'framework:tflite', 'framework:onnx', 'vendor:qualcomm', 'abi:aarch64-android', 'format:phone', 'chipset:qualcomm-snapdragon-8-elite', 'chipset:sm8750', 'hexagon:v79', 'soc-model:69', 'htp-supports-fp16:true', 'framework:qnn']),\n",
              " Device(name='SA8295P ADP', os='14', attributes=['os:android', 'framework:tflite', 'framework:onnx', 'vendor:qualcomm', 'abi:aarch64-android', 'format:auto', 'chipset:qualcomm-sa8295p', 'hexagon:v68', 'soc-model:39', 'htp-supports-fp16:true', 'framework:qnn']),\n",
              " Device(name='SA8775P ADP', os='14', attributes=['os:android', 'framework:tflite', 'framework:onnx', 'vendor:qualcomm', 'abi:aarch64-android', 'format:auto', 'chipset:qualcomm-sa8775p', 'hexagon:v73', 'soc-model:52', 'htp-supports-fp16:true', 'framework:qnn']),\n",
              " Device(name='SA7255P ADP', os='14', attributes=['os:android', 'framework:tflite', 'framework:onnx', 'vendor:qualcomm', 'abi:aarch64-android', 'format:auto', 'chipset:qualcomm-sa7255p', 'hexagon:v75', 'soc-model:67', 'htp-supports-fp16:true', 'framework:qnn']),\n",
              " Device(name='QCS9075 (Proxy)', os='14', attributes=['os:android', 'framework:tflite', 'framework:onnx', 'vendor:qualcomm', 'abi:aarch64-android', 'format:iot', 'chipset:qualcomm-qcs9075-proxy', 'hexagon:v73', 'soc-model:52', 'htp-supports-fp16:true', 'framework:qnn']),\n",
              " Device(name='QCS8275 (Proxy)', os='14', attributes=['os:android', 'framework:tflite', 'framework:onnx', 'vendor:qualcomm', 'abi:aarch64-android', 'format:iot', 'chipset:qualcomm-qcs8275-proxy', 'hexagon:v75', 'soc-model:67', 'htp-supports-fp16:true', 'framework:qnn'])]"
            ]
          },
          "metadata": {},
          "execution_count": 2
        }
      ]
    },
    {
      "cell_type": "code",
      "source": [
        "!pip3 install \"qai-hub[torch]\""
      ],
      "metadata": {
        "colab": {
          "base_uri": "https://localhost:8080/"
        },
        "id": "FGUigxw8JSCn",
        "outputId": "d50645f8-7305-42b3-9e75-d091a036bbff"
      },
      "execution_count": null,
      "outputs": [
        {
          "output_type": "stream",
          "name": "stdout",
          "text": [
            "Requirement already satisfied: qai-hub[torch] in /usr/local/lib/python3.11/dist-packages (0.24.0)\n",
            "Requirement already satisfied: backoff>=2.2 in /usr/local/lib/python3.11/dist-packages (from qai-hub[torch]) (2.2.1)\n",
            "Requirement already satisfied: deprecation in /usr/local/lib/python3.11/dist-packages (from qai-hub[torch]) (2.1.0)\n",
            "Requirement already satisfied: h5py<4,>=2.10.0 in /usr/local/lib/python3.11/dist-packages (from qai-hub[torch]) (3.12.1)\n",
            "Requirement already satisfied: numpy<2,>=1.22.0 in /usr/local/lib/python3.11/dist-packages (from qai-hub[torch]) (1.26.4)\n",
            "Requirement already satisfied: packaging>=20.0 in /usr/local/lib/python3.11/dist-packages (from qai-hub[torch]) (24.2)\n",
            "Requirement already satisfied: prettytable>=3.9.0 in /usr/local/lib/python3.11/dist-packages (from qai-hub[torch]) (3.14.0)\n",
            "Requirement already satisfied: protobuf<4,>=3.20 in /usr/local/lib/python3.11/dist-packages (from qai-hub[torch]) (3.20.3)\n",
            "Requirement already satisfied: requests in /usr/local/lib/python3.11/dist-packages (from qai-hub[torch]) (2.32.3)\n",
            "Requirement already satisfied: requests-toolbelt in /usr/local/lib/python3.11/dist-packages (from qai-hub[torch]) (1.0.0)\n",
            "Requirement already satisfied: s3transfer<0.11,>=0.10.3 in /usr/local/lib/python3.11/dist-packages (from qai-hub[torch]) (0.10.4)\n",
            "Requirement already satisfied: semver>=3.0 in /usr/local/lib/python3.11/dist-packages (from qai-hub[torch]) (3.0.4)\n",
            "Requirement already satisfied: tqdm in /usr/local/lib/python3.11/dist-packages (from qai-hub[torch]) (4.67.1)\n",
            "Requirement already satisfied: typing-extensions>=4.12.2 in /usr/local/lib/python3.11/dist-packages (from qai-hub[torch]) (4.12.2)\n",
            "Requirement already satisfied: torch>=1.13 in /usr/local/lib/python3.11/dist-packages (from qai-hub[torch]) (2.5.1+cu124)\n",
            "Requirement already satisfied: torchvision>=0.14 in /usr/local/lib/python3.11/dist-packages (from qai-hub[torch]) (0.20.1+cu124)\n",
            "Requirement already satisfied: wcwidth in /usr/local/lib/python3.11/dist-packages (from prettytable>=3.9.0->qai-hub[torch]) (0.2.13)\n",
            "Requirement already satisfied: botocore<2.0a.0,>=1.33.2 in /usr/local/lib/python3.11/dist-packages (from s3transfer<0.11,>=0.10.3->qai-hub[torch]) (1.36.26)\n",
            "Requirement already satisfied: filelock in /usr/local/lib/python3.11/dist-packages (from torch>=1.13->qai-hub[torch]) (3.17.0)\n",
            "Requirement already satisfied: networkx in /usr/local/lib/python3.11/dist-packages (from torch>=1.13->qai-hub[torch]) (3.4.2)\n",
            "Requirement already satisfied: jinja2 in /usr/local/lib/python3.11/dist-packages (from torch>=1.13->qai-hub[torch]) (3.1.5)\n",
            "Requirement already satisfied: fsspec in /usr/local/lib/python3.11/dist-packages (from torch>=1.13->qai-hub[torch]) (2024.10.0)\n",
            "Collecting nvidia-cuda-nvrtc-cu12==12.4.127 (from torch>=1.13->qai-hub[torch])\n",
            "  Downloading nvidia_cuda_nvrtc_cu12-12.4.127-py3-none-manylinux2014_x86_64.whl.metadata (1.5 kB)\n",
            "Collecting nvidia-cuda-runtime-cu12==12.4.127 (from torch>=1.13->qai-hub[torch])\n",
            "  Downloading nvidia_cuda_runtime_cu12-12.4.127-py3-none-manylinux2014_x86_64.whl.metadata (1.5 kB)\n",
            "Collecting nvidia-cuda-cupti-cu12==12.4.127 (from torch>=1.13->qai-hub[torch])\n",
            "  Downloading nvidia_cuda_cupti_cu12-12.4.127-py3-none-manylinux2014_x86_64.whl.metadata (1.6 kB)\n",
            "Collecting nvidia-cudnn-cu12==9.1.0.70 (from torch>=1.13->qai-hub[torch])\n",
            "  Downloading nvidia_cudnn_cu12-9.1.0.70-py3-none-manylinux2014_x86_64.whl.metadata (1.6 kB)\n",
            "Collecting nvidia-cublas-cu12==12.4.5.8 (from torch>=1.13->qai-hub[torch])\n",
            "  Downloading nvidia_cublas_cu12-12.4.5.8-py3-none-manylinux2014_x86_64.whl.metadata (1.5 kB)\n",
            "Collecting nvidia-cufft-cu12==11.2.1.3 (from torch>=1.13->qai-hub[torch])\n",
            "  Downloading nvidia_cufft_cu12-11.2.1.3-py3-none-manylinux2014_x86_64.whl.metadata (1.5 kB)\n",
            "Collecting nvidia-curand-cu12==10.3.5.147 (from torch>=1.13->qai-hub[torch])\n",
            "  Downloading nvidia_curand_cu12-10.3.5.147-py3-none-manylinux2014_x86_64.whl.metadata (1.5 kB)\n",
            "Collecting nvidia-cusolver-cu12==11.6.1.9 (from torch>=1.13->qai-hub[torch])\n",
            "  Downloading nvidia_cusolver_cu12-11.6.1.9-py3-none-manylinux2014_x86_64.whl.metadata (1.6 kB)\n",
            "Collecting nvidia-cusparse-cu12==12.3.1.170 (from torch>=1.13->qai-hub[torch])\n",
            "  Downloading nvidia_cusparse_cu12-12.3.1.170-py3-none-manylinux2014_x86_64.whl.metadata (1.6 kB)\n",
            "Requirement already satisfied: nvidia-nccl-cu12==2.21.5 in /usr/local/lib/python3.11/dist-packages (from torch>=1.13->qai-hub[torch]) (2.21.5)\n",
            "Requirement already satisfied: nvidia-nvtx-cu12==12.4.127 in /usr/local/lib/python3.11/dist-packages (from torch>=1.13->qai-hub[torch]) (12.4.127)\n",
            "Collecting nvidia-nvjitlink-cu12==12.4.127 (from torch>=1.13->qai-hub[torch])\n",
            "  Downloading nvidia_nvjitlink_cu12-12.4.127-py3-none-manylinux2014_x86_64.whl.metadata (1.5 kB)\n",
            "Requirement already satisfied: triton==3.1.0 in /usr/local/lib/python3.11/dist-packages (from torch>=1.13->qai-hub[torch]) (3.1.0)\n",
            "Requirement already satisfied: sympy==1.13.1 in /usr/local/lib/python3.11/dist-packages (from torch>=1.13->qai-hub[torch]) (1.13.1)\n",
            "Requirement already satisfied: mpmath<1.4,>=1.1.0 in /usr/local/lib/python3.11/dist-packages (from sympy==1.13.1->torch>=1.13->qai-hub[torch]) (1.3.0)\n",
            "Requirement already satisfied: pillow!=8.3.*,>=5.3.0 in /usr/local/lib/python3.11/dist-packages (from torchvision>=0.14->qai-hub[torch]) (11.1.0)\n",
            "Requirement already satisfied: charset-normalizer<4,>=2 in /usr/local/lib/python3.11/dist-packages (from requests->qai-hub[torch]) (3.4.1)\n",
            "Requirement already satisfied: idna<4,>=2.5 in /usr/local/lib/python3.11/dist-packages (from requests->qai-hub[torch]) (3.10)\n",
            "Requirement already satisfied: urllib3<3,>=1.21.1 in /usr/local/lib/python3.11/dist-packages (from requests->qai-hub[torch]) (2.3.0)\n",
            "Requirement already satisfied: certifi>=2017.4.17 in /usr/local/lib/python3.11/dist-packages (from requests->qai-hub[torch]) (2025.1.31)\n",
            "Requirement already satisfied: jmespath<2.0.0,>=0.7.1 in /usr/local/lib/python3.11/dist-packages (from botocore<2.0a.0,>=1.33.2->s3transfer<0.11,>=0.10.3->qai-hub[torch]) (1.0.1)\n",
            "Requirement already satisfied: python-dateutil<3.0.0,>=2.1 in /usr/local/lib/python3.11/dist-packages (from botocore<2.0a.0,>=1.33.2->s3transfer<0.11,>=0.10.3->qai-hub[torch]) (2.8.2)\n",
            "Requirement already satisfied: MarkupSafe>=2.0 in /usr/local/lib/python3.11/dist-packages (from jinja2->torch>=1.13->qai-hub[torch]) (3.0.2)\n",
            "Requirement already satisfied: six>=1.5 in /usr/local/lib/python3.11/dist-packages (from python-dateutil<3.0.0,>=2.1->botocore<2.0a.0,>=1.33.2->s3transfer<0.11,>=0.10.3->qai-hub[torch]) (1.17.0)\n",
            "Downloading nvidia_cublas_cu12-12.4.5.8-py3-none-manylinux2014_x86_64.whl (363.4 MB)\n",
            "\u001b[2K   \u001b[90m━━━━━━━━━━━━━━━━━━━━━━━━━━━━━━━━━━━━━━━━\u001b[0m \u001b[32m363.4/363.4 MB\u001b[0m \u001b[31m1.3 MB/s\u001b[0m eta \u001b[36m0:00:00\u001b[0m\n",
            "\u001b[?25hDownloading nvidia_cuda_cupti_cu12-12.4.127-py3-none-manylinux2014_x86_64.whl (13.8 MB)\n",
            "\u001b[2K   \u001b[90m━━━━━━━━━━━━━━━━━━━━━━━━━━━━━━━━━━━━━━━━\u001b[0m \u001b[32m13.8/13.8 MB\u001b[0m \u001b[31m20.8 MB/s\u001b[0m eta \u001b[36m0:00:00\u001b[0m\n",
            "\u001b[?25hDownloading nvidia_cuda_nvrtc_cu12-12.4.127-py3-none-manylinux2014_x86_64.whl (24.6 MB)\n",
            "\u001b[2K   \u001b[90m━━━━━━━━━━━━━━━━━━━━━━━━━━━━━━━━━━━━━━━━\u001b[0m \u001b[32m24.6/24.6 MB\u001b[0m \u001b[31m12.3 MB/s\u001b[0m eta \u001b[36m0:00:00\u001b[0m\n",
            "\u001b[?25hDownloading nvidia_cuda_runtime_cu12-12.4.127-py3-none-manylinux2014_x86_64.whl (883 kB)\n",
            "\u001b[2K   \u001b[90m━━━━━━━━━━━━━━━━━━━━━━━━━━━━━━━━━━━━━━━━\u001b[0m \u001b[32m883.7/883.7 kB\u001b[0m \u001b[31m18.1 MB/s\u001b[0m eta \u001b[36m0:00:00\u001b[0m\n",
            "\u001b[?25hDownloading nvidia_cudnn_cu12-9.1.0.70-py3-none-manylinux2014_x86_64.whl (664.8 MB)\n",
            "\u001b[2K   \u001b[90m━━━━━━━━━━━━━━━━━━━━━━━━━━━━━━━━━━━━━━━━\u001b[0m \u001b[32m664.8/664.8 MB\u001b[0m \u001b[31m1.6 MB/s\u001b[0m eta \u001b[36m0:00:00\u001b[0m\n",
            "\u001b[?25hDownloading nvidia_cufft_cu12-11.2.1.3-py3-none-manylinux2014_x86_64.whl (211.5 MB)\n",
            "\u001b[2K   \u001b[90m━━━━━━━━━━━━━━━━━━━━━━━━━━━━━━━━━━━━━━━━\u001b[0m \u001b[32m211.5/211.5 MB\u001b[0m \u001b[31m6.0 MB/s\u001b[0m eta \u001b[36m0:00:00\u001b[0m\n",
            "\u001b[?25hDownloading nvidia_curand_cu12-10.3.5.147-py3-none-manylinux2014_x86_64.whl (56.3 MB)\n",
            "\u001b[2K   \u001b[90m━━━━━━━━━━━━━━━━━━━━━━━━━━━━━━━━━━━━━━━━\u001b[0m \u001b[32m56.3/56.3 MB\u001b[0m \u001b[31m12.4 MB/s\u001b[0m eta \u001b[36m0:00:00\u001b[0m\n",
            "\u001b[?25hDownloading nvidia_cusolver_cu12-11.6.1.9-py3-none-manylinux2014_x86_64.whl (127.9 MB)\n",
            "\u001b[2K   \u001b[90m━━━━━━━━━━━━━━━━━━━━━━━━━━━━━━━━━━━━━━━━\u001b[0m \u001b[32m127.9/127.9 MB\u001b[0m \u001b[31m7.0 MB/s\u001b[0m eta \u001b[36m0:00:00\u001b[0m\n",
            "\u001b[?25hDownloading nvidia_cusparse_cu12-12.3.1.170-py3-none-manylinux2014_x86_64.whl (207.5 MB)\n",
            "\u001b[2K   \u001b[90m━━━━━━━━━━━━━━━━━━━━━━━━━━━━━━━━━━━━━━━━\u001b[0m \u001b[32m207.5/207.5 MB\u001b[0m \u001b[31m4.4 MB/s\u001b[0m eta \u001b[36m0:00:00\u001b[0m\n",
            "\u001b[?25hDownloading nvidia_nvjitlink_cu12-12.4.127-py3-none-manylinux2014_x86_64.whl (21.1 MB)\n",
            "\u001b[2K   \u001b[90m━━━━━━━━━━━━━━━━━━━━━━━━━━━━━━━━━━━━━━━━\u001b[0m \u001b[32m21.1/21.1 MB\u001b[0m \u001b[31m66.2 MB/s\u001b[0m eta \u001b[36m0:00:00\u001b[0m\n",
            "\u001b[?25hInstalling collected packages: nvidia-nvjitlink-cu12, nvidia-curand-cu12, nvidia-cufft-cu12, nvidia-cuda-runtime-cu12, nvidia-cuda-nvrtc-cu12, nvidia-cuda-cupti-cu12, nvidia-cublas-cu12, nvidia-cusparse-cu12, nvidia-cudnn-cu12, nvidia-cusolver-cu12\n",
            "  Attempting uninstall: nvidia-nvjitlink-cu12\n",
            "    Found existing installation: nvidia-nvjitlink-cu12 12.5.82\n",
            "    Uninstalling nvidia-nvjitlink-cu12-12.5.82:\n",
            "      Successfully uninstalled nvidia-nvjitlink-cu12-12.5.82\n",
            "  Attempting uninstall: nvidia-curand-cu12\n",
            "    Found existing installation: nvidia-curand-cu12 10.3.6.82\n",
            "    Uninstalling nvidia-curand-cu12-10.3.6.82:\n",
            "      Successfully uninstalled nvidia-curand-cu12-10.3.6.82\n",
            "  Attempting uninstall: nvidia-cufft-cu12\n",
            "    Found existing installation: nvidia-cufft-cu12 11.2.3.61\n",
            "    Uninstalling nvidia-cufft-cu12-11.2.3.61:\n",
            "      Successfully uninstalled nvidia-cufft-cu12-11.2.3.61\n",
            "  Attempting uninstall: nvidia-cuda-runtime-cu12\n",
            "    Found existing installation: nvidia-cuda-runtime-cu12 12.5.82\n",
            "    Uninstalling nvidia-cuda-runtime-cu12-12.5.82:\n",
            "      Successfully uninstalled nvidia-cuda-runtime-cu12-12.5.82\n",
            "  Attempting uninstall: nvidia-cuda-nvrtc-cu12\n",
            "    Found existing installation: nvidia-cuda-nvrtc-cu12 12.5.82\n",
            "    Uninstalling nvidia-cuda-nvrtc-cu12-12.5.82:\n",
            "      Successfully uninstalled nvidia-cuda-nvrtc-cu12-12.5.82\n",
            "  Attempting uninstall: nvidia-cuda-cupti-cu12\n",
            "    Found existing installation: nvidia-cuda-cupti-cu12 12.5.82\n",
            "    Uninstalling nvidia-cuda-cupti-cu12-12.5.82:\n",
            "      Successfully uninstalled nvidia-cuda-cupti-cu12-12.5.82\n",
            "  Attempting uninstall: nvidia-cublas-cu12\n",
            "    Found existing installation: nvidia-cublas-cu12 12.5.3.2\n",
            "    Uninstalling nvidia-cublas-cu12-12.5.3.2:\n",
            "      Successfully uninstalled nvidia-cublas-cu12-12.5.3.2\n",
            "  Attempting uninstall: nvidia-cusparse-cu12\n",
            "    Found existing installation: nvidia-cusparse-cu12 12.5.1.3\n",
            "    Uninstalling nvidia-cusparse-cu12-12.5.1.3:\n",
            "      Successfully uninstalled nvidia-cusparse-cu12-12.5.1.3\n",
            "  Attempting uninstall: nvidia-cudnn-cu12\n",
            "    Found existing installation: nvidia-cudnn-cu12 9.3.0.75\n",
            "    Uninstalling nvidia-cudnn-cu12-9.3.0.75:\n",
            "      Successfully uninstalled nvidia-cudnn-cu12-9.3.0.75\n",
            "  Attempting uninstall: nvidia-cusolver-cu12\n",
            "    Found existing installation: nvidia-cusolver-cu12 11.6.3.83\n",
            "    Uninstalling nvidia-cusolver-cu12-11.6.3.83:\n",
            "      Successfully uninstalled nvidia-cusolver-cu12-11.6.3.83\n",
            "Successfully installed nvidia-cublas-cu12-12.4.5.8 nvidia-cuda-cupti-cu12-12.4.127 nvidia-cuda-nvrtc-cu12-12.4.127 nvidia-cuda-runtime-cu12-12.4.127 nvidia-cudnn-cu12-9.1.0.70 nvidia-cufft-cu12-11.2.1.3 nvidia-curand-cu12-10.3.5.147 nvidia-cusolver-cu12-11.6.1.9 nvidia-cusparse-cu12-12.3.1.170 nvidia-nvjitlink-cu12-12.4.127\n"
          ]
        }
      ]
    },
    {
      "cell_type": "code",
      "source": [
        "# Importing all the necessary libraries\n",
        "import numpy as np\n",
        "import requests\n",
        "import torch\n",
        "from PIL import Image\n",
        "from torchvision.models import mobilenet_v3_small\n",
        "import qai_hub as hub\n",
        "\n",
        "# Using pre-trained MobileNet\n",
        "torch_model = mobilenet_v3_small(pretrained=True)\n",
        "torch_model.eval()\n",
        "\n",
        "# Trace model\n",
        "input_shape = (1, 3, 224, 224)\n",
        "example_input = torch.rand(input_shape)\n",
        "traced_torch_model = torch.jit.trace(torch_model, example_input)\n",
        "\n",
        "# Compile model\n",
        "compile_job = hub.submit_compile_job(\n",
        "    model=traced_torch_model,\n",
        "    device=hub.Device(\"Samsung Galaxy S24 (Family)\"),\n",
        "    input_specs=dict(image=input_shape),\n",
        "    options=\"--target_runtime tflite\",\n",
        ")\n",
        "assert isinstance(compile_job, hub.CompileJob)\n",
        "\n",
        "# Profile on cloud-hosted device\n",
        "target_model = compile_job.get_target_model()\n",
        "assert isinstance(target_model, hub.Model)\n",
        "profile_job = hub.submit_profile_job(\n",
        "    model=target_model,\n",
        "    device=hub.Device(\"Samsung Galaxy S24 (Family)\"),\n",
        ")\n",
        "assert isinstance(profile_job, hub.ProfileJob)\n",
        "\n"
      ],
      "metadata": {
        "colab": {
          "base_uri": "https://localhost:8080/"
        },
        "id": "Mp_F4E6hKkM2",
        "outputId": "82f9b1b0-3bca-413d-afd9-f52f60fc5097"
      },
      "execution_count": null,
      "outputs": [
        {
          "output_type": "stream",
          "name": "stdout",
          "text": [
            "Uploading tmppc7bblg5.pt\n"
          ]
        },
        {
          "output_type": "stream",
          "name": "stderr",
          "text": [
            "100%|\u001b[34m██████████\u001b[0m| 10.2M/10.2M [00:00<00:00, 18.9MB/s]\n"
          ]
        },
        {
          "output_type": "stream",
          "name": "stdout",
          "text": [
            "Scheduled compile job (j5621rn7g) successfully. To see the status and results:\n",
            "    https://app.aihub.qualcomm.com/jobs/j5621rn7g/\n",
            "\n",
            "Waiting for compile job (j5621rn7g) completion. Type Ctrl+C to stop waiting at any time.\n",
            "    ✅ SUCCESS                          \u0007\n",
            "Scheduled profile job (jgozvo3dp) successfully. To see the status and results:\n",
            "    https://app.aihub.qualcomm.com/jobs/jgozvo3dp/\n",
            "\n"
          ]
        }
      ]
    },
    {
      "cell_type": "code",
      "source": [
        "# Run inference on cloud-hosted device\n",
        "sample_image_url = (\n",
        "    \"https://qaihub-public-assets.s3.us-west-2.amazonaws.com/apidoc/input_image1.jpg\"\n",
        ")\n",
        "response = requests.get(sample_image_url, stream=True)\n",
        "response.raw.decode_content = True\n",
        "image = Image.open(response.raw).resize((224, 224))\n",
        "input_array = np.expand_dims(\n",
        "    np.transpose(np.array(image, dtype=np.float32) / 255.0, (2, 0, 1)), axis=0\n",
        ")\n",
        "\n",
        "# Run inference using the on-device model on the input image\n",
        "inference_job = hub.submit_inference_job(\n",
        "    model=target_model,\n",
        "    device=hub.Device(\"Samsung Galaxy S24 (Family)\"),\n",
        "    inputs=dict(image=[input_array]),\n",
        ")\n",
        "on_device_output = inference_job.download_output_data()\n",
        "\n",
        "# Post-processing the on-device output\n",
        "output_name = list(on_device_output.keys())[0]\n",
        "out = on_device_output[output_name][0]\n",
        "on_device_probabilities = np.exp(out) / np.sum(np.exp(out), axis=1)\n",
        "\n",
        "# Read the class labels for imagenet\n",
        "sample_classes = \"https://qaihub-public-assets.s3.us-west-2.amazonaws.com/apidoc/imagenet_classes.txt\"\n",
        "response = requests.get(sample_classes, stream=True)\n",
        "response.raw.decode_content = True\n",
        "categories = [str(s.strip()) for s in response.raw]\n",
        "\n",
        "# Print top five predictions for the on-device model\n",
        "print(\"Top-5 On-Device predictions:\")\n",
        "top5_classes = np.argsort(on_device_probabilities[0], axis=0)[-5:]\n",
        "for c in reversed(top5_classes):\n",
        "    print(f\"{c} {categories[c]:20s} {on_device_probabilities[0][c]:>6.1%}\")\n",
        "\n",
        "# Download model\n",
        "target_model = compile_job.get_target_model()\n",
        "target_model.download(\"mobilenet_v3.tflite\")"
      ],
      "metadata": {
        "colab": {
          "base_uri": "https://localhost:8080/",
          "height": 323
        },
        "id": "TO10VIUPNeyf",
        "outputId": "e8c0b7cb-dcf7-405e-b368-5a7d07f9beb5"
      },
      "execution_count": null,
      "outputs": [
        {
          "output_type": "stream",
          "name": "stderr",
          "text": [
            "Uploading dataset: 154kB [00:00, 499kB/s]                    \n"
          ]
        },
        {
          "output_type": "stream",
          "name": "stdout",
          "text": [
            "Scheduled inference job (jp2xm4m4g) successfully. To see the status and results:\n",
            "    https://app.aihub.qualcomm.com/jobs/jp2xm4m4g/\n",
            "\n",
            "Waiting for inference job (jp2xm4m4g) completion. Type Ctrl+C to stop waiting at any time.\n",
            "    ✅ SUCCESS                          \u0007\n"
          ]
        },
        {
          "output_type": "stream",
          "name": "stderr",
          "text": [
            "tmp_gg59kb5.h5: 100%|\u001b[34m██████████\u001b[0m| 14.4k/14.4k [00:00<00:00, 4.80MB/s]\n"
          ]
        },
        {
          "output_type": "stream",
          "name": "stdout",
          "text": [
            "Top-5 On-Device predictions:\n",
            "967 b'espresso'           87.6%\n",
            "968 b'cup'                 7.9%\n",
            "504 b'coffee mug'          3.5%\n",
            "969 b'eggnog'              0.3%\n",
            "849 b'teapot'              0.2%\n"
          ]
        },
        {
          "output_type": "stream",
          "name": "stderr",
          "text": [
            "mobilenet_v3.tflite: 100%|\u001b[34m██████████\u001b[0m| 9.71M/9.71M [00:00<00:00, 23.3MB/s]"
          ]
        },
        {
          "output_type": "stream",
          "name": "stdout",
          "text": [
            "Downloaded model to mobilenet_v3.tflite\n"
          ]
        },
        {
          "output_type": "stream",
          "name": "stderr",
          "text": [
            "\n"
          ]
        },
        {
          "output_type": "execute_result",
          "data": {
            "text/plain": [
              "'mobilenet_v3.tflite'"
            ],
            "application/vnd.google.colaboratory.intrinsic+json": {
              "type": "string"
            }
          },
          "metadata": {},
          "execution_count": 7
        }
      ]
    }
  ]
}